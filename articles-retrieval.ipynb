{
 "cells": [
  {
   "cell_type": "code",
   "execution_count": 8,
   "metadata": {},
   "outputs": [],
   "source": [
    "import chromadb\n",
    "import polars as pl\n",
    "from dotenv import load_dotenv\n",
    "import os\n",
    "\n",
    "load_dotenv()\n",
    "\n",
    "articles = pl.read_csv('Articles.csv',  encoding='ISO-8859-1').with_row_index(offset = 1)\n",
    "\n",
    "articles.head()\n",
    "\n",
    "chroma_client = chromadb.Client()\n",
    "\n",
    "articles = articles[:50]\n"
   ]
  },
  {
   "cell_type": "code",
   "execution_count": 9,
   "metadata": {},
   "outputs": [],
   "source": [
    "from langchain.embeddings import HuggingFaceInferenceAPIEmbeddings\n",
    "\n",
    "model = HuggingFaceInferenceAPIEmbeddings(\n",
    "    model_name='sentence-transformers/all-MiniLM-L6-v2',\n",
    "    api_key= os.getenv('api_key')\n",
    ")\n",
    "\n",
    "list_articles = articles['Article'].to_list()\n",
    "\n",
    "vectors =model.embed_documents(list_articles)\n",
    "ids = [f\"id{x}\" for x in articles['index'].to_list()]\n"
   ]
  },
  {
   "cell_type": "code",
   "execution_count": 10,
   "metadata": {},
   "outputs": [
    {
     "name": "stderr",
     "output_type": "stream",
     "text": [
      "Insert of existing embedding ID: id1\n",
      "Insert of existing embedding ID: id2\n",
      "Insert of existing embedding ID: id3\n",
      "Insert of existing embedding ID: id4\n",
      "Insert of existing embedding ID: id5\n",
      "Insert of existing embedding ID: id6\n",
      "Insert of existing embedding ID: id7\n",
      "Insert of existing embedding ID: id8\n",
      "Insert of existing embedding ID: id9\n",
      "Insert of existing embedding ID: id10\n",
      "Insert of existing embedding ID: id11\n",
      "Insert of existing embedding ID: id12\n",
      "Insert of existing embedding ID: id13\n",
      "Insert of existing embedding ID: id14\n",
      "Insert of existing embedding ID: id15\n",
      "Insert of existing embedding ID: id16\n",
      "Insert of existing embedding ID: id17\n",
      "Insert of existing embedding ID: id18\n",
      "Insert of existing embedding ID: id19\n",
      "Insert of existing embedding ID: id20\n",
      "Insert of existing embedding ID: id21\n",
      "Insert of existing embedding ID: id22\n",
      "Insert of existing embedding ID: id23\n",
      "Insert of existing embedding ID: id24\n",
      "Insert of existing embedding ID: id25\n",
      "Insert of existing embedding ID: id26\n",
      "Insert of existing embedding ID: id27\n",
      "Insert of existing embedding ID: id28\n",
      "Insert of existing embedding ID: id29\n",
      "Insert of existing embedding ID: id30\n",
      "Insert of existing embedding ID: id31\n",
      "Insert of existing embedding ID: id32\n",
      "Insert of existing embedding ID: id33\n",
      "Insert of existing embedding ID: id34\n",
      "Insert of existing embedding ID: id35\n",
      "Insert of existing embedding ID: id36\n",
      "Insert of existing embedding ID: id37\n",
      "Insert of existing embedding ID: id38\n",
      "Insert of existing embedding ID: id39\n",
      "Insert of existing embedding ID: id40\n",
      "Insert of existing embedding ID: id41\n",
      "Insert of existing embedding ID: id42\n",
      "Insert of existing embedding ID: id43\n",
      "Insert of existing embedding ID: id44\n",
      "Insert of existing embedding ID: id45\n",
      "Insert of existing embedding ID: id46\n",
      "Insert of existing embedding ID: id47\n",
      "Insert of existing embedding ID: id48\n",
      "Insert of existing embedding ID: id49\n",
      "Insert of existing embedding ID: id50\n",
      "Add of existing embedding ID: id1\n",
      "Add of existing embedding ID: id2\n",
      "Add of existing embedding ID: id3\n",
      "Add of existing embedding ID: id4\n",
      "Add of existing embedding ID: id5\n",
      "Add of existing embedding ID: id6\n",
      "Add of existing embedding ID: id7\n",
      "Add of existing embedding ID: id8\n",
      "Add of existing embedding ID: id9\n",
      "Add of existing embedding ID: id10\n",
      "Add of existing embedding ID: id11\n",
      "Add of existing embedding ID: id12\n",
      "Add of existing embedding ID: id13\n",
      "Add of existing embedding ID: id14\n",
      "Add of existing embedding ID: id15\n",
      "Add of existing embedding ID: id16\n",
      "Add of existing embedding ID: id17\n",
      "Add of existing embedding ID: id18\n",
      "Add of existing embedding ID: id19\n",
      "Add of existing embedding ID: id20\n",
      "Add of existing embedding ID: id21\n",
      "Add of existing embedding ID: id22\n",
      "Add of existing embedding ID: id23\n",
      "Add of existing embedding ID: id24\n",
      "Add of existing embedding ID: id25\n",
      "Add of existing embedding ID: id26\n",
      "Add of existing embedding ID: id27\n",
      "Add of existing embedding ID: id28\n",
      "Add of existing embedding ID: id29\n",
      "Add of existing embedding ID: id30\n",
      "Add of existing embedding ID: id31\n",
      "Add of existing embedding ID: id32\n",
      "Add of existing embedding ID: id33\n",
      "Add of existing embedding ID: id34\n",
      "Add of existing embedding ID: id35\n",
      "Add of existing embedding ID: id36\n",
      "Add of existing embedding ID: id37\n",
      "Add of existing embedding ID: id38\n",
      "Add of existing embedding ID: id39\n",
      "Add of existing embedding ID: id40\n",
      "Add of existing embedding ID: id41\n",
      "Add of existing embedding ID: id42\n",
      "Add of existing embedding ID: id43\n",
      "Add of existing embedding ID: id44\n",
      "Add of existing embedding ID: id45\n",
      "Add of existing embedding ID: id46\n",
      "Add of existing embedding ID: id47\n",
      "Add of existing embedding ID: id48\n",
      "Add of existing embedding ID: id49\n",
      "Add of existing embedding ID: id50\n"
     ]
    }
   ],
   "source": [
    "collection = chroma_client.get_or_create_collection(name='articles')\n",
    "\n",
    "collection.add(\n",
    "    documents=list_articles,\n",
    "    ids=ids,\n",
    "    embeddings=vectors,\n",
    ")\n"
   ]
  },
  {
   "cell_type": "code",
   "execution_count": 11,
   "metadata": {},
   "outputs": [
    {
     "data": {
      "text/plain": [
       "{'ids': [['id24', 'id39', 'id29', 'id16', 'id14']],\n",
       " 'embeddings': None,\n",
       " 'documents': [['ISLAMABAD: In a move to give relief to consumers, sources in the Finance Ministry said on Tuesday that the price of petrol and petroleum products are expected to decrease further from February 1.According to sources, the price of petrol is expected to be slashed by Rs 10 per litre, High Speed Diesel by Rs 8.50 per litre, Light Diesel by Rs 11 per litre, HOBC by Rs 14 per litre, and Kerosene by Rs 12 per litre.Global crude oil prices have fallen by 50 percent since June 2014, and to provide consistent relief to consumers, the Pakistan government has decreased the price of petrol by Rs 29 since the last four months and brought the price of Diesel down by Rs 23 in the same time frame.Fuel crisis in the country began last week when Pakistan State Oil (PSO) was forced to slash imports because banks refused to extend any more credit to the government-owned company, which supplies 80 percent of the country´s oil.The shortfall led to long queues of angry motorists at petrol stations, though these have since dissipated as fuel supplies have reached the pumps. \\n\\n\\n\\n\\n\\n\\n\\n\\n\\n\\n',\n",
       "   'ISLAMABAD: The consistent fall in the price of petrol saw a record sale in the month of January, with a 32 percent increase as compared to January 2014.Consumers across the country bought 0.39 million tonnes of petrol in January this year.According to industry sources, the price difference between petrol and compressed natural gas (CNG) dropped from 56 percent in January 2014 to 31 percent in January 2015.Global crude oil prices have fallen by 50 percent since June 2014, and to provide consistent relief to consumers, the Pakistan government has decreased the price of petrol by Rs 29 since the last four months and brought the price of Diesel down by Rs 23 in the same time frame. \\n\\n\\n\\n\\n\\n\\n\\n\\n\\n\\n',\n",
       "   'ISLAMABAD:  Federal Minister for Finance Ishaq Dar on Saturday announced a five percent increase in the General Sales Tax (GST) on petroleum products.Dar said that the increment would enable a recovery of 12 billion rupees.The minister, however, went on to say that the ministry would still face a loss of 40 billion rupees.Earlier today, Prime Minister Nawaz Sharif announced a decrease in the price of petroleum products.Petrol has been decreased by Rs 7.99, Hi-Octane by Rs 11.82, Light Diesel by Rs 9.56 and kerosene oil by Rs 10.48 per litre. \\n\\n\\n\\n\\n\\n\\n\\n\\n\\n\\n',\n",
       "   'ISLAMABAD: A two member committee tasked to probe the prevailing petrol shortage on Tuesday said that the situation was a serious failure on the part of OGRA (Oil and Gas Regulatory Authority) as a regulator. The committee presented its initial findings to Prime Minister Nawaz Sharif in a meeting held here under his chairmanship to review the petroleum situation in the country.The PM directed to make structural changes to ensure that such a situation never arises again. The meeting endorsed the earlier decision of suspending four senior officials responsible for the crisis.The meeting also decided that Deputy Managing Director Pakistan State Oil (PSO) Sohail Butt was also equally responsible and ordered for his suspension as well.Meanwhile, Petroleum Minister Shahid Khaqan Abbasi said that he was never satisfied with the performance of OGRA and the authority\\x92s performance as a regulator was not just dismal for petrol but was also same for gas.Petrol crisis: Day 8 The petrol crisis has entered its eight day in Punjab as commuters continue their search for fuel. Long queues are seen at stations which are open with people complaining of waiting for several hours for just a litre of petrol. The All Pakistan Petroleum Dealers Association said that 5.7 mn liters of petrol has been disbursed to fuel stations across Punjab during the last three days and another 1.8 mn liters will be dispersed by tonight.However, according to the Petroleum Dealers Association, the state of affairs is improving and the chaos at stations was only due to mismanagement of the pumps and had nothing to do with the supply.The association further said that all fuel stations have been directed to meet the demands of the commuters with the provided supply of petrol, as well as all stations should stop providing petrol to customers with bottles and canisters in order to avoid queues. \\n\\n\\n\\n\\n\\n\\n\\n\\n\\n\\n',\n",
       "   'ISLAMABAD: Long queues of vehicles on fuel stations were visible in different parts of the country as the petrol became rare commodity on Thursday.Federal Minister for Petroleum Shahid Khaqan Abbasi says \"it may take up to ten days to bring the situation to normality\".He claimed that northern areas of Pakistan had been facing the petrol shortage. The minister cited the recent decline in petroleum prices and delay in a shipment as reasons for the shortage.He said situation would improve as soon as shipment reached Pakistan. Sources told Geo News hat due to financial restraints the Pakistan State Oil has been unable import petrol. \\n\\n\\n\\n\\n\\n\\n\\n\\n\\n\\n']],\n",
       " 'uris': None,\n",
       " 'data': None,\n",
       " 'metadatas': [[None, None, None, None, None]],\n",
       " 'distances': [[0.8053050637245178,\n",
       "   0.8175182938575745,\n",
       "   0.8905450701713562,\n",
       "   1.0798704624176025,\n",
       "   1.092246413230896]],\n",
       " 'included': [<IncludeEnum.distances: 'distances'>,\n",
       "  <IncludeEnum.documents: 'documents'>,\n",
       "  <IncludeEnum.metadatas: 'metadatas'>]}"
      ]
     },
     "execution_count": 11,
     "metadata": {},
     "output_type": "execute_result"
    }
   ],
   "source": [
    "query = \"Tell me about the price of petrol\"\n",
    "\n",
    "query_emb = model.embed_query(query)\n",
    "\n",
    "collection.query(\n",
    "    query_embeddings=query_emb,\n",
    "    n_results=5\n",
    ")"
   ]
  },
  {
   "cell_type": "code",
   "execution_count": null,
   "metadata": {},
   "outputs": [],
   "source": []
  }
 ],
 "metadata": {
  "kernelspec": {
   "display_name": "Python 3.11.2 64-bit",
   "language": "python",
   "name": "python3"
  },
  "language_info": {
   "codemirror_mode": {
    "name": "ipython",
    "version": 3
   },
   "file_extension": ".py",
   "mimetype": "text/x-python",
   "name": "python",
   "nbconvert_exporter": "python",
   "pygments_lexer": "ipython3",
   "version": "3.11.2"
  },
  "orig_nbformat": 4,
  "vscode": {
   "interpreter": {
    "hash": "aee8b7b246df8f9039afb4144a1f6fd8d2ca17a180786b69acc140d282b71a49"
   }
  }
 },
 "nbformat": 4,
 "nbformat_minor": 2
}
