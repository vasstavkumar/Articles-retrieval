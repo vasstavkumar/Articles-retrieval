{
 "cells": [
  {
   "cell_type": "code",
   "execution_count": 1,
   "metadata": {},
   "outputs": [],
   "source": [
    "import chromadb\n",
    "import polars as pl\n",
    "from dotenv import load_dotenv\n",
    "import os\n",
    "\n",
    "load_dotenv()\n",
    "\n",
    "articles = pl.read_csv('Articles.csv',  encoding='ISO-8859-1').with_row_index(offset = 1)\n",
    "\n",
    "articles.head()\n",
    "\n",
    "chroma_client = chromadb.Client()\n",
    "\n",
    "articles = articles[:50]\n"
   ]
  },
  {
   "cell_type": "code",
   "execution_count": 2,
   "metadata": {},
   "outputs": [],
   "source": [
    "from langchain.embeddings import HuggingFaceInferenceAPIEmbeddings\n",
    "\n",
    "model = HuggingFaceInferenceAPIEmbeddings(\n",
    "    model_name='sentence-transformers/all-MiniLM-L6-v2',\n",
    "    api_key= os.getenv('api_key')\n",
    ")\n",
    "\n",
    "list_articles = articles['Article'].to_list()\n",
    "\n",
    "vectors =model.embed_documents(list_articles)\n",
    "ids = [f\"id{x}\" for x in articles['index'].to_list()]\n"
   ]
  },
  {
   "cell_type": "code",
   "execution_count": 3,
   "metadata": {},
   "outputs": [],
   "source": [
    "collection = chroma_client.get_or_create_collection(name='articles')\n",
    "\n",
    "collection.add(\n",
    "    documents=list_articles,\n",
    "    ids=ids,\n",
    "    embeddings=vectors,\n",
    ")\n"
   ]
  },
  {
   "cell_type": "code",
   "execution_count": 4,
   "metadata": {},
   "outputs": [
    {
     "data": {
      "text/plain": [
       "{'ids': [['id23', 'id27', 'id34', 'id44', 'id22']],\n",
       " 'embeddings': None,\n",
       " 'documents': [['ISLAMABAD: Pakistan\\'s ongoing fuel shortage that has led to worsening power blackouts is weighing on its credit worthiness and hindering its ability to meet key reform targets laid out by the IMF, ratings agency Moody´s warned Monday. The country is currently in the grip of one of its worst power crises in years due to a shortfall in imported oil, with the situation exacerbated Sunday by an attack on a key powerline in restive Balochistan province. Moody´s said that increasing energy imports without addressing structural issues that create so-called circular debt \"will further strain Pakistan\\'s budget and balance of payments, a credit negative\". \"Fuel shortages also reflect the strained finances of state-owned distribution companies and the fuel importer, Pakistan State Oil corporation, and are a setback to the sector\\'s progress on reforms made so far under Pakistan\\'s financial support program with the International Monetary Fund.\"The IMF granted a $6.6-billion loan to Pakistan in September 2013 on the condition that it carry out extensive economic reforms, particularly in the energy and taxation sectors.Moody´s, which in July 2014 upgraded Pakistan\\'s rating outlook from \"negative\" to \"stable\" in a boon for the shaky South Asian economy, said that structural reforms had been a \"key driver\" in its decision last year. \"Circular debt\" -- brought on by the dual effect of the government setting low electricity prices and customers failing to pay -- is at the heart of the crisis. State utilities lose money, and cannot pay private power generating companies, which in turn cannot pay the oil and gas suppliers, who cut off the supply. The fuel crisis began last week when Pakistan State Oil was forced to slash imports because banks refused to extend any more credit to the government-owned company, which supplies 80 percent of the country´s oil. The shortfall led to long queues of angry motorists at petrol stations, though these have since dissipated as fuel supplies have reached the pumps. But Moody´s warned that the government of Prime Minister Nawaz Sharif, which made solving the energy crisis a key campaign pledge, had so far failed to offer policy solutions and increasing oil supplies would only add to the fiscal burden. \"The government´s targeted fiscal deficit of 4.5 percent of GDP in fiscal 2015 from 4.7 percent in fiscal 2014 is already impeded by delays in implementing electricity tariff adjustments and legal challenges related to tax collections,\" it said. Increasing fuel imports, which currently comprise 35 percent of total imports would further weigh on Pakistan´s import bill, it added.                        \\n\\n\\n\\n\\n\\n\\n\\n\\n\\n\\n',\n",
       "   'KARACHI: State Bank of Pakistan (SBP) governor on Thursday urged the country´s Islamic banks to develop ways to reward their customers in line with a surge in the sector´s profitability, or face regulatory action. Islamic finance is experiencing a revival in Pakistan, aided by an ambitious five-year plan that regulators hope will double the industry´s share of the banking sector to 20 percent by 2020.A growing client base and improving asset quality helped Islamic banks post profits before tax of 12 billion rupees ($119.1 million) in the third quarter of last year, almost double the year-earlier amount, central bank data shows. But regulators want to tackle consumer perceptions that Islamic banks falter when it comes to social responsibility and ethical banking practices.The average financing-to-deposit spread - the difference between what banks charge for financing and what they pay their depositors - for all lenders, Islamic and conventional, remains high and should be \"reasonably rationalised\", central bank governor Ashraf Wathra said in a speech to a gathering of industry executives on Monday. He did not specify a satisfactory level, but singled out Islamic banks as the ones needing to reward customers in line with a rise in profits.\"Banks were advised to come up with their own solutions or the SBP will apply sharia-compliant measures to address the issue,\" said Wathra. He did not elaborate, but in the past the central bank has prescribed minimum targets for banks to lend to specific sectors of the economy such as agriculture and small business. Islamic banks follow religious principles which ban the charging of interest and gambling, and stress the sharing of risk and profits. The industry has developed a range of sharia-compliant financial tools, some with greater profit-sharing qualities than others. Islamic banks fall short when it comes to using strongly profit-sharing instruments such as musharaka, whose share of overall Islamic financing in Pakistan was only 10.1 percent as of September, compared to 4.2 percent a year earlier. Musharaka is a partnership in which two or more parties agree to provide capital, sharing both profits and losses according to a stipulated ratio. By contrast, murabaha - a cost-plus-profit arrangement where one party agrees to buy merchandise for another - commands the lion´s share of financing by the country´s Islamic banks, at 30.3 percent. Murabaha is often criticised for lacking economic substance and its resemblance to a conventional loan. \\n\\n\\n\\n\\n\\n\\n\\n\\n\\n\\n',\n",
       "   'DUBAI: Talks between Pakistan and the International Monetary Fund (IMF) concluded successfully on Thursday, with the IMF agreeing to release $518 million by end of March as the next tranche of the three-year $6.6bn Extended Fund Facility (EFF) programme.\\x93The mission and the Pakistani authorities have reached staff-level understandings on a Memorandum of Economic and Financial Policies on the sixth review of the program, which, upon approval by the IMF\\x92s Management, will be discussed by the IMF Executive Board. \"Upon completion of the review, SDR 360 million (about US$518 million) would be made available to Pakistan,\\x94 said the outgoing chief of the IMF Mission to Pakistan Jeffery Franks.Newly-announced Chief of IMF Mission to Pakistan, Herald Finger, will replace Franks after the talks.At a jointly held press conference with the IMF staff in Dubai, Finance Minister Ishaq Dar reiterated that there would be no increase in gas and electricity prices. Pakistan also informed the IMF of its expenditure of Rs. 150 billion on the implementation of the National Action Plan (NAP) as well as repatriation of Internally Displaced Persons (IDPs).Also agreed upon was Rs.60 billion in tax cuts for Pakistan, while it was decided that the target for tax cuts should reach Rs. 2750 million by June.Dar said that Pakistan\\x92s foreign exchange reserves have increased to over $15 billion, entitling the country to receive subsidised loans.However, due to the price reduction of petrol in the country, tax revenue decreased to Rs. 68 billion. \\x93Tax revenues were below the second-quarter indicative target by about 0.1 percent of GDP due in part to legal challenges to some revenue measures and to the fiscal effects of the plunge in international oil prices,\\x94 said a press statement from the IMF mission. \\x93While progress has been made in addressing the structural impediments to higher and more inclusive growth, important challenges remain, such as steps to enhance the independence of the SBP, permanently resolve energy sector deficiencies, complete the legal framework for deposit insurance, and privatize or restructure public enterprises,\\x94 noted the IMF.                        \\n\\n\\n\\n\\n\\n\\n\\n\\n\\n\\n',\n",
       "   'ISLAMABAD: Prime Minister Nawaz Sharif on Wednesday called for speedy implementation of Turkmenistan-Afghanistan-Pakistan-India (TAPI) gas pipeline project terming it critical for the regional countries.The meeting in Islamabad included Petroleum Ministers of Turkmenistan, Afghanistan and India as well as Pakistan\\x92s Minister for Petroleum and Natural Resources Shahid Khaqan Abbasi.The PM said that Pakistan would play a positive role for the early progress on TAPI and any delay would add heavily to the cost.He went on to say that Pakistan was facing an acute shortage of gas and that this project would help Pakistan overcome the crisis. On February 6, Minister of State for Petroleum and Natural Resources Jam Kamal said that Pakistan would host technical group meetings of the TAPI project here during this month. All the countries under TAPI would participate in the meetings as the gas sales and purchase agreement had already been signed. He also said that project development was in progress while consultants were engaged in carrying out feasibility study and design.  \\n\\n\\n\\n\\n\\n\\n\\n\\n\\n\\n',\n",
       "   'ISLAMABAD: Finance Minister Ishaq Dar here on Sunday chaired a briefing session by managing director Pak-Brunei Investment Company seeking details of its present investment financing profile and immediate future plans. Pak-Brunei Investment Company is an investment finance company established as a joint venture between government of Pakistan and Brunei Investment Agency (BIA) that commenced operations in August 2007 said a press release. Managing Director Ayesha Aziz said that Pak-Brunei plans to increase its small and medium enterprise footprint across various regions of the country. She said that the company was in final stages of launching a modarba fund as its special future venture. The First Fund based on PE model will be established by March 2015.Pak-Brunei also has plans for establishment of specialized vehicles for warehousing collateral management. Finance Minister appreciated the company\\x92s 100% recovery ratios particularly in SME financing and handling projects facing financial distress.  \\n\\n\\n\\n\\n\\n\\n\\n\\n\\n\\n']],\n",
       " 'uris': None,\n",
       " 'data': None,\n",
       " 'metadatas': [[None, None, None, None, None]],\n",
       " 'distances': [[0.8069955706596375,\n",
       "   0.8301321268081665,\n",
       "   0.9269940853118896,\n",
       "   0.957432210445404,\n",
       "   0.971341609954834]],\n",
       " 'included': [<IncludeEnum.distances: 'distances'>,\n",
       "  <IncludeEnum.documents: 'documents'>,\n",
       "  <IncludeEnum.metadatas: 'metadatas'>]}"
      ]
     },
     "execution_count": 4,
     "metadata": {},
     "output_type": "execute_result"
    }
   ],
   "source": [
    "query = \"who is the Federal Finance Minister of Pakistan\"\n",
    "\n",
    "query_emb = model.embed_query(query)\n",
    "\n",
    "context = collection.query(\n",
    "    query_embeddings=query_emb,\n",
    "    n_results=5\n",
    ")\n",
    "\n",
    "context"
   ]
  },
  {
   "cell_type": "code",
   "execution_count": 7,
   "metadata": {},
   "outputs": [
    {
     "ename": "BadRequestError",
     "evalue": "Error code: 400 - {'error': {'message': \"'messages.0' : for 'role:system' the following must be satisfied[('messages.0.content' : value must be a string)]\", 'type': 'invalid_request_error'}}",
     "output_type": "error",
     "traceback": [
      "\u001b[0;31m---------------------------------------------------------------------------\u001b[0m",
      "\u001b[0;31mBadRequestError\u001b[0m                           Traceback (most recent call last)",
      "Cell \u001b[0;32mIn[7], line 8\u001b[0m\n\u001b[1;32m      2\u001b[0m \u001b[39mfrom\u001b[39;00m \u001b[39mgroq\u001b[39;00m \u001b[39mimport\u001b[39;00m Groq\n\u001b[1;32m      4\u001b[0m client \u001b[39m=\u001b[39m Groq(\n\u001b[1;32m      5\u001b[0m     api_key\u001b[39m=\u001b[39mos\u001b[39m.\u001b[39menviron\u001b[39m.\u001b[39mget(\u001b[39m\"\u001b[39m\u001b[39mGROQ_API_KEY\u001b[39m\u001b[39m\"\u001b[39m),  \u001b[39m# This is the default and can be omitted\u001b[39;00m\n\u001b[1;32m      6\u001b[0m )\n\u001b[0;32m----> 8\u001b[0m chat_completion \u001b[39m=\u001b[39m client\u001b[39m.\u001b[39;49mchat\u001b[39m.\u001b[39;49mcompletions\u001b[39m.\u001b[39;49mcreate( \n\u001b[1;32m      9\u001b[0m     messages\u001b[39m=\u001b[39;49m[\n\u001b[1;32m     10\u001b[0m         {\n\u001b[1;32m     11\u001b[0m             \u001b[39m\"\u001b[39;49m\u001b[39mrole\u001b[39;49m\u001b[39m\"\u001b[39;49m : \u001b[39m\"\u001b[39;49m\u001b[39msystem\u001b[39;49m\u001b[39m\"\u001b[39;49m,\n\u001b[1;32m     12\u001b[0m             \u001b[39m\"\u001b[39;49m\u001b[39mcontent\u001b[39;49m\u001b[39m\"\u001b[39;49m: context,\n\u001b[1;32m     13\u001b[0m         },\n\u001b[1;32m     14\u001b[0m         {\n\u001b[1;32m     15\u001b[0m             \u001b[39m\"\u001b[39;49m\u001b[39mrole\u001b[39;49m\u001b[39m\"\u001b[39;49m: \u001b[39m\"\u001b[39;49m\u001b[39muser\u001b[39;49m\u001b[39m\"\u001b[39;49m,\n\u001b[1;32m     16\u001b[0m             \u001b[39m\"\u001b[39;49m\u001b[39mcontent\u001b[39;49m\u001b[39m\"\u001b[39;49m : query\n\u001b[1;32m     17\u001b[0m         }\n\u001b[1;32m     18\u001b[0m     ],\n\u001b[1;32m     19\u001b[0m     model\u001b[39m=\u001b[39;49m\u001b[39m\"\u001b[39;49m\u001b[39mllama3-8b-8192\u001b[39;49m\u001b[39m\"\u001b[39;49m,\n\u001b[1;32m     20\u001b[0m )\n\u001b[1;32m     22\u001b[0m \u001b[39mprint\u001b[39m(chat_completion\u001b[39m.\u001b[39mchoices[\u001b[39m0\u001b[39m]\u001b[39m.\u001b[39mmessage\u001b[39m.\u001b[39mcontent)\n",
      "File \u001b[0;32m/Library/Frameworks/Python.framework/Versions/3.11/lib/python3.11/site-packages/groq/resources/chat/completions.py:322\u001b[0m, in \u001b[0;36mCompletions.create\u001b[0;34m(self, messages, model, frequency_penalty, function_call, functions, logit_bias, logprobs, max_completion_tokens, max_tokens, n, parallel_tool_calls, presence_penalty, reasoning_format, response_format, seed, service_tier, stop, stream, temperature, tool_choice, tools, top_logprobs, top_p, user, extra_headers, extra_query, extra_body, timeout)\u001b[0m\n\u001b[1;32m    166\u001b[0m \u001b[39mdef\u001b[39;00m \u001b[39mcreate\u001b[39m(\n\u001b[1;32m    167\u001b[0m     \u001b[39mself\u001b[39m,\n\u001b[1;32m    168\u001b[0m     \u001b[39m*\u001b[39m,\n\u001b[0;32m   (...)\u001b[0m\n\u001b[1;32m    198\u001b[0m     timeout: \u001b[39mfloat\u001b[39m \u001b[39m|\u001b[39m httpx\u001b[39m.\u001b[39mTimeout \u001b[39m|\u001b[39m \u001b[39mNone\u001b[39;00m \u001b[39m|\u001b[39m NotGiven \u001b[39m=\u001b[39m NOT_GIVEN,\n\u001b[1;32m    199\u001b[0m ) \u001b[39m-\u001b[39m\u001b[39m>\u001b[39m ChatCompletion \u001b[39m|\u001b[39m Stream[ChatCompletionChunk]:\n\u001b[1;32m    200\u001b[0m \u001b[39m    \u001b[39m\u001b[39m\"\"\"\u001b[39;00m\n\u001b[1;32m    201\u001b[0m \u001b[39m    Creates a model response for the given chat conversation.\u001b[39;00m\n\u001b[1;32m    202\u001b[0m \n\u001b[0;32m   (...)\u001b[0m\n\u001b[1;32m    320\u001b[0m \u001b[39m      timeout: Override the client-level default timeout for this request, in seconds\u001b[39;00m\n\u001b[1;32m    321\u001b[0m \u001b[39m    \"\"\"\u001b[39;00m\n\u001b[0;32m--> 322\u001b[0m     \u001b[39mreturn\u001b[39;00m \u001b[39mself\u001b[39;49m\u001b[39m.\u001b[39;49m_post(\n\u001b[1;32m    323\u001b[0m         \u001b[39m\"\u001b[39;49m\u001b[39m/openai/v1/chat/completions\u001b[39;49m\u001b[39m\"\u001b[39;49m,\n\u001b[1;32m    324\u001b[0m         body\u001b[39m=\u001b[39;49mmaybe_transform(\n\u001b[1;32m    325\u001b[0m             {\n\u001b[1;32m    326\u001b[0m                 \u001b[39m\"\u001b[39;49m\u001b[39mmessages\u001b[39;49m\u001b[39m\"\u001b[39;49m: messages,\n\u001b[1;32m    327\u001b[0m                 \u001b[39m\"\u001b[39;49m\u001b[39mmodel\u001b[39;49m\u001b[39m\"\u001b[39;49m: model,\n\u001b[1;32m    328\u001b[0m                 \u001b[39m\"\u001b[39;49m\u001b[39mfrequency_penalty\u001b[39;49m\u001b[39m\"\u001b[39;49m: frequency_penalty,\n\u001b[1;32m    329\u001b[0m                 \u001b[39m\"\u001b[39;49m\u001b[39mfunction_call\u001b[39;49m\u001b[39m\"\u001b[39;49m: function_call,\n\u001b[1;32m    330\u001b[0m                 \u001b[39m\"\u001b[39;49m\u001b[39mfunctions\u001b[39;49m\u001b[39m\"\u001b[39;49m: functions,\n\u001b[1;32m    331\u001b[0m                 \u001b[39m\"\u001b[39;49m\u001b[39mlogit_bias\u001b[39;49m\u001b[39m\"\u001b[39;49m: logit_bias,\n\u001b[1;32m    332\u001b[0m                 \u001b[39m\"\u001b[39;49m\u001b[39mlogprobs\u001b[39;49m\u001b[39m\"\u001b[39;49m: logprobs,\n\u001b[1;32m    333\u001b[0m                 \u001b[39m\"\u001b[39;49m\u001b[39mmax_completion_tokens\u001b[39;49m\u001b[39m\"\u001b[39;49m: max_completion_tokens,\n\u001b[1;32m    334\u001b[0m                 \u001b[39m\"\u001b[39;49m\u001b[39mmax_tokens\u001b[39;49m\u001b[39m\"\u001b[39;49m: max_tokens,\n\u001b[1;32m    335\u001b[0m                 \u001b[39m\"\u001b[39;49m\u001b[39mn\u001b[39;49m\u001b[39m\"\u001b[39;49m: n,\n\u001b[1;32m    336\u001b[0m                 \u001b[39m\"\u001b[39;49m\u001b[39mparallel_tool_calls\u001b[39;49m\u001b[39m\"\u001b[39;49m: parallel_tool_calls,\n\u001b[1;32m    337\u001b[0m                 \u001b[39m\"\u001b[39;49m\u001b[39mpresence_penalty\u001b[39;49m\u001b[39m\"\u001b[39;49m: presence_penalty,\n\u001b[1;32m    338\u001b[0m                 \u001b[39m\"\u001b[39;49m\u001b[39mreasoning_format\u001b[39;49m\u001b[39m\"\u001b[39;49m: reasoning_format,\n\u001b[1;32m    339\u001b[0m                 \u001b[39m\"\u001b[39;49m\u001b[39mresponse_format\u001b[39;49m\u001b[39m\"\u001b[39;49m: response_format,\n\u001b[1;32m    340\u001b[0m                 \u001b[39m\"\u001b[39;49m\u001b[39mseed\u001b[39;49m\u001b[39m\"\u001b[39;49m: seed,\n\u001b[1;32m    341\u001b[0m                 \u001b[39m\"\u001b[39;49m\u001b[39mservice_tier\u001b[39;49m\u001b[39m\"\u001b[39;49m: service_tier,\n\u001b[1;32m    342\u001b[0m                 \u001b[39m\"\u001b[39;49m\u001b[39mstop\u001b[39;49m\u001b[39m\"\u001b[39;49m: stop,\n\u001b[1;32m    343\u001b[0m                 \u001b[39m\"\u001b[39;49m\u001b[39mstream\u001b[39;49m\u001b[39m\"\u001b[39;49m: stream,\n\u001b[1;32m    344\u001b[0m                 \u001b[39m\"\u001b[39;49m\u001b[39mtemperature\u001b[39;49m\u001b[39m\"\u001b[39;49m: temperature,\n\u001b[1;32m    345\u001b[0m                 \u001b[39m\"\u001b[39;49m\u001b[39mtool_choice\u001b[39;49m\u001b[39m\"\u001b[39;49m: tool_choice,\n\u001b[1;32m    346\u001b[0m                 \u001b[39m\"\u001b[39;49m\u001b[39mtools\u001b[39;49m\u001b[39m\"\u001b[39;49m: tools,\n\u001b[1;32m    347\u001b[0m                 \u001b[39m\"\u001b[39;49m\u001b[39mtop_logprobs\u001b[39;49m\u001b[39m\"\u001b[39;49m: top_logprobs,\n\u001b[1;32m    348\u001b[0m                 \u001b[39m\"\u001b[39;49m\u001b[39mtop_p\u001b[39;49m\u001b[39m\"\u001b[39;49m: top_p,\n\u001b[1;32m    349\u001b[0m                 \u001b[39m\"\u001b[39;49m\u001b[39muser\u001b[39;49m\u001b[39m\"\u001b[39;49m: user,\n\u001b[1;32m    350\u001b[0m             },\n\u001b[1;32m    351\u001b[0m             completion_create_params\u001b[39m.\u001b[39;49mCompletionCreateParams,\n\u001b[1;32m    352\u001b[0m         ),\n\u001b[1;32m    353\u001b[0m         options\u001b[39m=\u001b[39;49mmake_request_options(\n\u001b[1;32m    354\u001b[0m             extra_headers\u001b[39m=\u001b[39;49mextra_headers, extra_query\u001b[39m=\u001b[39;49mextra_query, extra_body\u001b[39m=\u001b[39;49mextra_body, timeout\u001b[39m=\u001b[39;49mtimeout\n\u001b[1;32m    355\u001b[0m         ),\n\u001b[1;32m    356\u001b[0m         cast_to\u001b[39m=\u001b[39;49mChatCompletion,\n\u001b[1;32m    357\u001b[0m         stream\u001b[39m=\u001b[39;49mstream \u001b[39mor\u001b[39;49;00m \u001b[39mFalse\u001b[39;49;00m,\n\u001b[1;32m    358\u001b[0m         stream_cls\u001b[39m=\u001b[39;49mStream[ChatCompletionChunk],\n\u001b[1;32m    359\u001b[0m     )\n",
      "File \u001b[0;32m/Library/Frameworks/Python.framework/Versions/3.11/lib/python3.11/site-packages/groq/_base_client.py:1266\u001b[0m, in \u001b[0;36mSyncAPIClient.post\u001b[0;34m(self, path, cast_to, body, options, files, stream, stream_cls)\u001b[0m\n\u001b[1;32m   1252\u001b[0m \u001b[39mdef\u001b[39;00m \u001b[39mpost\u001b[39m(\n\u001b[1;32m   1253\u001b[0m     \u001b[39mself\u001b[39m,\n\u001b[1;32m   1254\u001b[0m     path: \u001b[39mstr\u001b[39m,\n\u001b[0;32m   (...)\u001b[0m\n\u001b[1;32m   1261\u001b[0m     stream_cls: \u001b[39mtype\u001b[39m[_StreamT] \u001b[39m|\u001b[39m \u001b[39mNone\u001b[39;00m \u001b[39m=\u001b[39m \u001b[39mNone\u001b[39;00m,\n\u001b[1;32m   1262\u001b[0m ) \u001b[39m-\u001b[39m\u001b[39m>\u001b[39m ResponseT \u001b[39m|\u001b[39m _StreamT:\n\u001b[1;32m   1263\u001b[0m     opts \u001b[39m=\u001b[39m FinalRequestOptions\u001b[39m.\u001b[39mconstruct(\n\u001b[1;32m   1264\u001b[0m         method\u001b[39m=\u001b[39m\u001b[39m\"\u001b[39m\u001b[39mpost\u001b[39m\u001b[39m\"\u001b[39m, url\u001b[39m=\u001b[39mpath, json_data\u001b[39m=\u001b[39mbody, files\u001b[39m=\u001b[39mto_httpx_files(files), \u001b[39m*\u001b[39m\u001b[39m*\u001b[39moptions\n\u001b[1;32m   1265\u001b[0m     )\n\u001b[0;32m-> 1266\u001b[0m     \u001b[39mreturn\u001b[39;00m cast(ResponseT, \u001b[39mself\u001b[39;49m\u001b[39m.\u001b[39;49mrequest(cast_to, opts, stream\u001b[39m=\u001b[39;49mstream, stream_cls\u001b[39m=\u001b[39;49mstream_cls))\n",
      "File \u001b[0;32m/Library/Frameworks/Python.framework/Versions/3.11/lib/python3.11/site-packages/groq/_base_client.py:958\u001b[0m, in \u001b[0;36mSyncAPIClient.request\u001b[0;34m(self, cast_to, options, remaining_retries, stream, stream_cls)\u001b[0m\n\u001b[1;32m    955\u001b[0m \u001b[39melse\u001b[39;00m:\n\u001b[1;32m    956\u001b[0m     retries_taken \u001b[39m=\u001b[39m \u001b[39m0\u001b[39m\n\u001b[0;32m--> 958\u001b[0m \u001b[39mreturn\u001b[39;00m \u001b[39mself\u001b[39;49m\u001b[39m.\u001b[39;49m_request(\n\u001b[1;32m    959\u001b[0m     cast_to\u001b[39m=\u001b[39;49mcast_to,\n\u001b[1;32m    960\u001b[0m     options\u001b[39m=\u001b[39;49moptions,\n\u001b[1;32m    961\u001b[0m     stream\u001b[39m=\u001b[39;49mstream,\n\u001b[1;32m    962\u001b[0m     stream_cls\u001b[39m=\u001b[39;49mstream_cls,\n\u001b[1;32m    963\u001b[0m     retries_taken\u001b[39m=\u001b[39;49mretries_taken,\n\u001b[1;32m    964\u001b[0m )\n",
      "File \u001b[0;32m/Library/Frameworks/Python.framework/Versions/3.11/lib/python3.11/site-packages/groq/_base_client.py:1061\u001b[0m, in \u001b[0;36mSyncAPIClient._request\u001b[0;34m(self, cast_to, options, retries_taken, stream, stream_cls)\u001b[0m\n\u001b[1;32m   1058\u001b[0m         err\u001b[39m.\u001b[39mresponse\u001b[39m.\u001b[39mread()\n\u001b[1;32m   1060\u001b[0m     log\u001b[39m.\u001b[39mdebug(\u001b[39m\"\u001b[39m\u001b[39mRe-raising status error\u001b[39m\u001b[39m\"\u001b[39m)\n\u001b[0;32m-> 1061\u001b[0m     \u001b[39mraise\u001b[39;00m \u001b[39mself\u001b[39m\u001b[39m.\u001b[39m_make_status_error_from_response(err\u001b[39m.\u001b[39mresponse) \u001b[39mfrom\u001b[39;00m \u001b[39mNone\u001b[39;00m\n\u001b[1;32m   1063\u001b[0m \u001b[39mreturn\u001b[39;00m \u001b[39mself\u001b[39m\u001b[39m.\u001b[39m_process_response(\n\u001b[1;32m   1064\u001b[0m     cast_to\u001b[39m=\u001b[39mcast_to,\n\u001b[1;32m   1065\u001b[0m     options\u001b[39m=\u001b[39moptions,\n\u001b[0;32m   (...)\u001b[0m\n\u001b[1;32m   1069\u001b[0m     retries_taken\u001b[39m=\u001b[39mretries_taken,\n\u001b[1;32m   1070\u001b[0m )\n",
      "\u001b[0;31mBadRequestError\u001b[0m: Error code: 400 - {'error': {'message': \"'messages.0' : for 'role:system' the following must be satisfied[('messages.0.content' : value must be a string)]\", 'type': 'invalid_request_error'}}"
     ]
    }
   ],
   "source": [
    "import os\n",
    "from groq import Groq\n",
    "\n",
    "client = Groq(\n",
    "    api_key=os.environ.get(\"GROQ_API_KEY\"),  # This is the default and can be omitted\n",
    ")\n",
    "\n",
    "chat_completion = client.chat.completions.create( \n",
    "    messages=[\n",
    "        {\n",
    "            \"role\" : \"system\",\n",
    "            \"content\": context,\n",
    "        },\n",
    "        {\n",
    "            \"role\": \"user\",\n",
    "            \"content\" : query\n",
    "        }\n",
    "    ],\n",
    "    model=\"llama3-8b-8192\",\n",
    ")\n",
    "   \n",
    "print(chat_completion.choices[0].message.content)"
   ]
  },
  {
   "cell_type": "code",
   "execution_count": null,
   "metadata": {},
   "outputs": [],
   "source": []
  }
 ],
 "metadata": {
  "kernelspec": {
   "display_name": "Python 3.11.2 64-bit",
   "language": "python",
   "name": "python3"
  },
  "language_info": {
   "codemirror_mode": {
    "name": "ipython",
    "version": 3
   },
   "file_extension": ".py",
   "mimetype": "text/x-python",
   "name": "python",
   "nbconvert_exporter": "python",
   "pygments_lexer": "ipython3",
   "version": "3.11.2"
  },
  "orig_nbformat": 4,
  "vscode": {
   "interpreter": {
    "hash": "aee8b7b246df8f9039afb4144a1f6fd8d2ca17a180786b69acc140d282b71a49"
   }
  }
 },
 "nbformat": 4,
 "nbformat_minor": 2
}
