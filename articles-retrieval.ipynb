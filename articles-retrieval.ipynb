{
 "cells": [
  {
   "cell_type": "code",
   "execution_count": 22,
   "metadata": {},
   "outputs": [],
   "source": [
    "import chromadb\n",
    "import polars as pl\n",
    "from dotenv import load_dotenv\n",
    "import os\n",
    "\n",
    "load_dotenv()\n",
    "\n",
    "articles = pl.read_csv('Articles.csv',  encoding='ISO-8859-1').with_row_index(offset = 1)\n",
    "\n",
    "articles.head()\n",
    "\n",
    "chroma_client = chromadb.Client()\n",
    "\n",
    "articles = articles[:50]\n"
   ]
  },
  {
   "cell_type": "code",
   "execution_count": 23,
   "metadata": {},
   "outputs": [],
   "source": [
    "from langchain.embeddings import HuggingFaceInferenceAPIEmbeddings\n",
    "\n",
    "model = HuggingFaceInferenceAPIEmbeddings(\n",
    "    model_name='sentence-transformers/all-MiniLM-L6-v2',\n",
    "    api_key= os.getenv('api_key')\n",
    ")\n",
    "\n",
    "list_articles = articles['Article'].to_list()\n",
    "\n",
    "vectors =model.embed_documents(list_articles)\n",
    "ids = [f\"id{x}\" for x in articles['index'].to_list()]\n"
   ]
  },
  {
   "cell_type": "code",
   "execution_count": 24,
   "metadata": {},
   "outputs": [
    {
     "name": "stderr",
     "output_type": "stream",
     "text": [
      "Insert of existing embedding ID: id1\n",
      "Insert of existing embedding ID: id2\n",
      "Insert of existing embedding ID: id3\n",
      "Insert of existing embedding ID: id4\n",
      "Insert of existing embedding ID: id5\n",
      "Insert of existing embedding ID: id6\n",
      "Insert of existing embedding ID: id7\n",
      "Insert of existing embedding ID: id8\n",
      "Insert of existing embedding ID: id9\n",
      "Insert of existing embedding ID: id10\n",
      "Insert of existing embedding ID: id11\n",
      "Insert of existing embedding ID: id12\n",
      "Insert of existing embedding ID: id13\n",
      "Insert of existing embedding ID: id14\n",
      "Insert of existing embedding ID: id15\n",
      "Insert of existing embedding ID: id16\n",
      "Insert of existing embedding ID: id17\n",
      "Insert of existing embedding ID: id18\n",
      "Insert of existing embedding ID: id19\n",
      "Insert of existing embedding ID: id20\n",
      "Insert of existing embedding ID: id21\n",
      "Insert of existing embedding ID: id22\n",
      "Insert of existing embedding ID: id23\n",
      "Insert of existing embedding ID: id24\n",
      "Insert of existing embedding ID: id25\n",
      "Insert of existing embedding ID: id26\n",
      "Insert of existing embedding ID: id27\n",
      "Insert of existing embedding ID: id28\n",
      "Insert of existing embedding ID: id29\n",
      "Insert of existing embedding ID: id30\n",
      "Insert of existing embedding ID: id31\n",
      "Insert of existing embedding ID: id32\n",
      "Insert of existing embedding ID: id33\n",
      "Insert of existing embedding ID: id34\n",
      "Insert of existing embedding ID: id35\n",
      "Insert of existing embedding ID: id36\n",
      "Insert of existing embedding ID: id37\n",
      "Insert of existing embedding ID: id38\n",
      "Insert of existing embedding ID: id39\n",
      "Insert of existing embedding ID: id40\n",
      "Insert of existing embedding ID: id41\n",
      "Insert of existing embedding ID: id42\n",
      "Insert of existing embedding ID: id43\n",
      "Insert of existing embedding ID: id44\n",
      "Insert of existing embedding ID: id45\n",
      "Insert of existing embedding ID: id46\n",
      "Insert of existing embedding ID: id47\n",
      "Insert of existing embedding ID: id48\n",
      "Insert of existing embedding ID: id49\n",
      "Insert of existing embedding ID: id50\n",
      "Add of existing embedding ID: id1\n",
      "Add of existing embedding ID: id2\n",
      "Add of existing embedding ID: id3\n",
      "Add of existing embedding ID: id4\n",
      "Add of existing embedding ID: id5\n",
      "Add of existing embedding ID: id6\n",
      "Add of existing embedding ID: id7\n",
      "Add of existing embedding ID: id8\n",
      "Add of existing embedding ID: id9\n",
      "Add of existing embedding ID: id10\n",
      "Add of existing embedding ID: id11\n",
      "Add of existing embedding ID: id12\n",
      "Add of existing embedding ID: id13\n",
      "Add of existing embedding ID: id14\n",
      "Add of existing embedding ID: id15\n",
      "Add of existing embedding ID: id16\n",
      "Add of existing embedding ID: id17\n",
      "Add of existing embedding ID: id18\n",
      "Add of existing embedding ID: id19\n",
      "Add of existing embedding ID: id20\n",
      "Add of existing embedding ID: id21\n",
      "Add of existing embedding ID: id22\n",
      "Add of existing embedding ID: id23\n",
      "Add of existing embedding ID: id24\n",
      "Add of existing embedding ID: id25\n",
      "Add of existing embedding ID: id26\n",
      "Add of existing embedding ID: id27\n",
      "Add of existing embedding ID: id28\n",
      "Add of existing embedding ID: id29\n",
      "Add of existing embedding ID: id30\n",
      "Add of existing embedding ID: id31\n",
      "Add of existing embedding ID: id32\n",
      "Add of existing embedding ID: id33\n",
      "Add of existing embedding ID: id34\n",
      "Add of existing embedding ID: id35\n",
      "Add of existing embedding ID: id36\n",
      "Add of existing embedding ID: id37\n",
      "Add of existing embedding ID: id38\n",
      "Add of existing embedding ID: id39\n",
      "Add of existing embedding ID: id40\n",
      "Add of existing embedding ID: id41\n",
      "Add of existing embedding ID: id42\n",
      "Add of existing embedding ID: id43\n",
      "Add of existing embedding ID: id44\n",
      "Add of existing embedding ID: id45\n",
      "Add of existing embedding ID: id46\n",
      "Add of existing embedding ID: id47\n",
      "Add of existing embedding ID: id48\n",
      "Add of existing embedding ID: id49\n",
      "Add of existing embedding ID: id50\n"
     ]
    }
   ],
   "source": [
    "collection = chroma_client.get_or_create_collection(name='articles')\n",
    "\n",
    "collection.add(\n",
    "    documents=list_articles,\n",
    "    ids=ids,\n",
    "    embeddings=vectors,\n",
    ")\n"
   ]
  },
  {
   "cell_type": "code",
   "execution_count": 25,
   "metadata": {},
   "outputs": [
    {
     "data": {
      "text/plain": [
       "{'ids': [['id23', 'id27', 'id34', 'id44', 'id22']],\n",
       " 'embeddings': None,\n",
       " 'documents': [['ISLAMABAD: Pakistan\\'s ongoing fuel shortage that has led to worsening power blackouts is weighing on its credit worthiness and hindering its ability to meet key reform targets laid out by the IMF, ratings agency Moody´s warned Monday. The country is currently in the grip of one of its worst power crises in years due to a shortfall in imported oil, with the situation exacerbated Sunday by an attack on a key powerline in restive Balochistan province. Moody´s said that increasing energy imports without addressing structural issues that create so-called circular debt \"will further strain Pakistan\\'s budget and balance of payments, a credit negative\". \"Fuel shortages also reflect the strained finances of state-owned distribution companies and the fuel importer, Pakistan State Oil corporation, and are a setback to the sector\\'s progress on reforms made so far under Pakistan\\'s financial support program with the International Monetary Fund.\"The IMF granted a $6.6-billion loan to Pakistan in September 2013 on the condition that it carry out extensive economic reforms, particularly in the energy and taxation sectors.Moody´s, which in July 2014 upgraded Pakistan\\'s rating outlook from \"negative\" to \"stable\" in a boon for the shaky South Asian economy, said that structural reforms had been a \"key driver\" in its decision last year. \"Circular debt\" -- brought on by the dual effect of the government setting low electricity prices and customers failing to pay -- is at the heart of the crisis. State utilities lose money, and cannot pay private power generating companies, which in turn cannot pay the oil and gas suppliers, who cut off the supply. The fuel crisis began last week when Pakistan State Oil was forced to slash imports because banks refused to extend any more credit to the government-owned company, which supplies 80 percent of the country´s oil. The shortfall led to long queues of angry motorists at petrol stations, though these have since dissipated as fuel supplies have reached the pumps. But Moody´s warned that the government of Prime Minister Nawaz Sharif, which made solving the energy crisis a key campaign pledge, had so far failed to offer policy solutions and increasing oil supplies would only add to the fiscal burden. \"The government´s targeted fiscal deficit of 4.5 percent of GDP in fiscal 2015 from 4.7 percent in fiscal 2014 is already impeded by delays in implementing electricity tariff adjustments and legal challenges related to tax collections,\" it said. Increasing fuel imports, which currently comprise 35 percent of total imports would further weigh on Pakistan´s import bill, it added.                        \\n\\n\\n\\n\\n\\n\\n\\n\\n\\n\\n',\n",
       "   'KARACHI: State Bank of Pakistan (SBP) governor on Thursday urged the country´s Islamic banks to develop ways to reward their customers in line with a surge in the sector´s profitability, or face regulatory action. Islamic finance is experiencing a revival in Pakistan, aided by an ambitious five-year plan that regulators hope will double the industry´s share of the banking sector to 20 percent by 2020.A growing client base and improving asset quality helped Islamic banks post profits before tax of 12 billion rupees ($119.1 million) in the third quarter of last year, almost double the year-earlier amount, central bank data shows. But regulators want to tackle consumer perceptions that Islamic banks falter when it comes to social responsibility and ethical banking practices.The average financing-to-deposit spread - the difference between what banks charge for financing and what they pay their depositors - for all lenders, Islamic and conventional, remains high and should be \"reasonably rationalised\", central bank governor Ashraf Wathra said in a speech to a gathering of industry executives on Monday. He did not specify a satisfactory level, but singled out Islamic banks as the ones needing to reward customers in line with a rise in profits.\"Banks were advised to come up with their own solutions or the SBP will apply sharia-compliant measures to address the issue,\" said Wathra. He did not elaborate, but in the past the central bank has prescribed minimum targets for banks to lend to specific sectors of the economy such as agriculture and small business. Islamic banks follow religious principles which ban the charging of interest and gambling, and stress the sharing of risk and profits. The industry has developed a range of sharia-compliant financial tools, some with greater profit-sharing qualities than others. Islamic banks fall short when it comes to using strongly profit-sharing instruments such as musharaka, whose share of overall Islamic financing in Pakistan was only 10.1 percent as of September, compared to 4.2 percent a year earlier. Musharaka is a partnership in which two or more parties agree to provide capital, sharing both profits and losses according to a stipulated ratio. By contrast, murabaha - a cost-plus-profit arrangement where one party agrees to buy merchandise for another - commands the lion´s share of financing by the country´s Islamic banks, at 30.3 percent. Murabaha is often criticised for lacking economic substance and its resemblance to a conventional loan. \\n\\n\\n\\n\\n\\n\\n\\n\\n\\n\\n',\n",
       "   'DUBAI: Talks between Pakistan and the International Monetary Fund (IMF) concluded successfully on Thursday, with the IMF agreeing to release $518 million by end of March as the next tranche of the three-year $6.6bn Extended Fund Facility (EFF) programme.\\x93The mission and the Pakistani authorities have reached staff-level understandings on a Memorandum of Economic and Financial Policies on the sixth review of the program, which, upon approval by the IMF\\x92s Management, will be discussed by the IMF Executive Board. \"Upon completion of the review, SDR 360 million (about US$518 million) would be made available to Pakistan,\\x94 said the outgoing chief of the IMF Mission to Pakistan Jeffery Franks.Newly-announced Chief of IMF Mission to Pakistan, Herald Finger, will replace Franks after the talks.At a jointly held press conference with the IMF staff in Dubai, Finance Minister Ishaq Dar reiterated that there would be no increase in gas and electricity prices. Pakistan also informed the IMF of its expenditure of Rs. 150 billion on the implementation of the National Action Plan (NAP) as well as repatriation of Internally Displaced Persons (IDPs).Also agreed upon was Rs.60 billion in tax cuts for Pakistan, while it was decided that the target for tax cuts should reach Rs. 2750 million by June.Dar said that Pakistan\\x92s foreign exchange reserves have increased to over $15 billion, entitling the country to receive subsidised loans.However, due to the price reduction of petrol in the country, tax revenue decreased to Rs. 68 billion. \\x93Tax revenues were below the second-quarter indicative target by about 0.1 percent of GDP due in part to legal challenges to some revenue measures and to the fiscal effects of the plunge in international oil prices,\\x94 said a press statement from the IMF mission. \\x93While progress has been made in addressing the structural impediments to higher and more inclusive growth, important challenges remain, such as steps to enhance the independence of the SBP, permanently resolve energy sector deficiencies, complete the legal framework for deposit insurance, and privatize or restructure public enterprises,\\x94 noted the IMF.                        \\n\\n\\n\\n\\n\\n\\n\\n\\n\\n\\n',\n",
       "   'ISLAMABAD: Prime Minister Nawaz Sharif on Wednesday called for speedy implementation of Turkmenistan-Afghanistan-Pakistan-India (TAPI) gas pipeline project terming it critical for the regional countries.The meeting in Islamabad included Petroleum Ministers of Turkmenistan, Afghanistan and India as well as Pakistan\\x92s Minister for Petroleum and Natural Resources Shahid Khaqan Abbasi.The PM said that Pakistan would play a positive role for the early progress on TAPI and any delay would add heavily to the cost.He went on to say that Pakistan was facing an acute shortage of gas and that this project would help Pakistan overcome the crisis. On February 6, Minister of State for Petroleum and Natural Resources Jam Kamal said that Pakistan would host technical group meetings of the TAPI project here during this month. All the countries under TAPI would participate in the meetings as the gas sales and purchase agreement had already been signed. He also said that project development was in progress while consultants were engaged in carrying out feasibility study and design.  \\n\\n\\n\\n\\n\\n\\n\\n\\n\\n\\n',\n",
       "   'ISLAMABAD: Finance Minister Ishaq Dar here on Sunday chaired a briefing session by managing director Pak-Brunei Investment Company seeking details of its present investment financing profile and immediate future plans. Pak-Brunei Investment Company is an investment finance company established as a joint venture between government of Pakistan and Brunei Investment Agency (BIA) that commenced operations in August 2007 said a press release. Managing Director Ayesha Aziz said that Pak-Brunei plans to increase its small and medium enterprise footprint across various regions of the country. She said that the company was in final stages of launching a modarba fund as its special future venture. The First Fund based on PE model will be established by March 2015.Pak-Brunei also has plans for establishment of specialized vehicles for warehousing collateral management. Finance Minister appreciated the company\\x92s 100% recovery ratios particularly in SME financing and handling projects facing financial distress.  \\n\\n\\n\\n\\n\\n\\n\\n\\n\\n\\n']],\n",
       " 'uris': None,\n",
       " 'data': None,\n",
       " 'metadatas': [[None, None, None, None, None]],\n",
       " 'distances': [[0.8069955706596375,\n",
       "   0.8301321268081665,\n",
       "   0.9269940853118896,\n",
       "   0.957432210445404,\n",
       "   0.971341609954834]],\n",
       " 'included': [<IncludeEnum.distances: 'distances'>,\n",
       "  <IncludeEnum.documents: 'documents'>,\n",
       "  <IncludeEnum.metadatas: 'metadatas'>]}"
      ]
     },
     "execution_count": 25,
     "metadata": {},
     "output_type": "execute_result"
    }
   ],
   "source": [
    "query = \"who is the Federal Finance Minister of Pakistan\"\n",
    "\n",
    "query_emb = model.embed_query(query)\n",
    "\n",
    "context = collection.query(\n",
    "    query_embeddings=query_emb,\n",
    "    n_results=5\n",
    ")\n",
    "\n",
    "context"
   ]
  },
  {
   "cell_type": "code",
   "execution_count": 26,
   "metadata": {},
   "outputs": [
    {
     "name": "stdout",
     "output_type": "stream",
     "text": [
      "Based on the provided information, the Federal Finance Minister of Pakistan is Ishaq Dar.\n"
     ]
    }
   ],
   "source": [
    "import os\n",
    "from groq import Groq\n",
    "\n",
    "client = Groq(\n",
    "    api_key=os.environ.get(\"GROQ_API_KEY\")\n",
    ")\n",
    "\n",
    "# print(context)\n",
    "\n",
    "context = str(context)\n",
    "query = str(query)\n",
    "\n",
    "chat_completion = client.chat.completions.create( \n",
    "    messages=[\n",
    "        {\n",
    "            \"role\": \"system\",\n",
    "            \"content\": \"You are an AI assistant. Use the following information provided by the user to answer questions accurately: \\n\\n\" + context\n",
    "        },\n",
    "        {\n",
    "            \"role\": \"user\",\n",
    "            \"content\": \"Based on the provided information, \" + query\n",
    "        }\n",
    "    ],\n",
    "    model=\"llama3-8b-8192\",\n",
    ")\n",
    "\n",
    "print(chat_completion.choices[0].message.content)\n"
   ]
  },
  {
   "cell_type": "code",
   "execution_count": null,
   "metadata": {},
   "outputs": [],
   "source": []
  }
 ],
 "metadata": {
  "kernelspec": {
   "display_name": "Python 3.11.2 64-bit",
   "language": "python",
   "name": "python3"
  },
  "language_info": {
   "codemirror_mode": {
    "name": "ipython",
    "version": 3
   },
   "file_extension": ".py",
   "mimetype": "text/x-python",
   "name": "python",
   "nbconvert_exporter": "python",
   "pygments_lexer": "ipython3",
   "version": "3.11.2"
  },
  "orig_nbformat": 4,
  "vscode": {
   "interpreter": {
    "hash": "aee8b7b246df8f9039afb4144a1f6fd8d2ca17a180786b69acc140d282b71a49"
   }
  }
 },
 "nbformat": 4,
 "nbformat_minor": 2
}
